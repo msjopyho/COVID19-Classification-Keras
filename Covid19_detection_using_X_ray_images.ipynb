{
  "cells": [
    {
      "cell_type": "markdown",
      "metadata": {
        "id": "vWxzGS08AcVK"
      },
      "source": [
        "# TASK 1 : Import Libraries"
      ]
    },
    {
      "cell_type": "code",
      "execution_count": null,
      "metadata": {
        "colab": {
          "base_uri": "https://localhost:8080/"
        },
        "id": "_sRplygk-qr3",
        "outputId": "268dcfe4-abc6-40af-ca82-fdca4444e4d9"
      },
      "outputs": [
        {
          "output_type": "stream",
          "name": "stdout",
          "text": [
            "Mounted at /content/drive\n"
          ]
        }
      ],
      "source": [
        "from google.colab import drive\n",
        "drive.mount('/content/drive')"
      ]
    },
    {
      "cell_type": "code",
      "execution_count": null,
      "metadata": {
        "id": "CDBYcQCeAUAp"
      },
      "outputs": [],
      "source": [
        "import tensorflow \n",
        "from tensorflow.keras.models import Sequential \n",
        "from tensorflow.keras.layers import Conv2D , MaxPooling2D, Dropout, Flatten, Dense\n",
        "from tensorflow.keras.optimizers import Adam\n",
        "from tensorflow.keras.preprocessing.image import ImageDataGenerator\n",
        "from tensorflow.keras.utils import load_img, img_to_array\n",
        "import numpy as np\n",
        "import matplotlib.pyplot as plt"
      ]
    },
    {
      "cell_type": "markdown",
      "metadata": {
        "id": "hMRiBWpYAiOQ"
      },
      "source": [
        "# TASK 2 : Clone & Explore dataset"
      ]
    },
    {
      "cell_type": "code",
      "execution_count": null,
      "metadata": {
        "colab": {
          "base_uri": "https://localhost:8080/"
        },
        "id": "lY1sIb7GI_m5",
        "outputId": "681038de-a1d8-4bae-af3b-02be09746d12"
      },
      "outputs": [
        {
          "output_type": "stream",
          "name": "stdout",
          "text": [
            "Cloning into 'datasets'...\n",
            "remote: Enumerating objects: 2301, done.\u001b[K\n",
            "remote: Total 2301 (delta 0), reused 0 (delta 0), pack-reused 2301\u001b[K\n",
            "Receiving objects: 100% (2301/2301), 1.31 GiB | 17.69 MiB/s, done.\n",
            "Checking out files: 100% (2295/2295), done.\n"
          ]
        }
      ],
      "source": [
        "#clone the dataset from the github repository\n",
        "! git clone https://github.com/education454/datasets.git"
      ]
    },
    {
      "cell_type": "code",
      "execution_count": null,
      "metadata": {
        "id": "qv3ykJOtAn7k"
      },
      "outputs": [],
      "source": [
        "#set the path to the main dir\n",
        "import os\n",
        "main_dir = \"/content/datasets/Data\"\n",
        "\n",
        "#set the path to the train dir\n",
        "train_dir = os.path.join(main_dir, 'train')\n",
        "\n",
        "#set the path to the test dir\n",
        "test_dir = os.path.join(main_dir, 'test')\n",
        "\n",
        "\n",
        "#directory with the training covid images\n",
        "train_covid_dir = os.path.join(train_dir, 'COVID19')\n",
        "\n",
        "#directory with the training normal images\n",
        "train_normal_dir = os.path.join(train_dir, 'NORMAL')\n",
        "#directory with the testing covid images\n",
        "test_covid_dir = os.path.join(test_dir, 'COVID19')\n",
        "#directory with the testing normal images\n",
        "test_normal_dir = os.path.join(test_dir, 'NORMAL')"
      ]
    },
    {
      "cell_type": "code",
      "execution_count": null,
      "metadata": {
        "colab": {
          "base_uri": "https://localhost:8080/"
        },
        "id": "s_QyIqfcBUwv",
        "outputId": "13b51e95-743c-44e0-ba58-3dce67071a75"
      },
      "outputs": [
        {
          "output_type": "stream",
          "name": "stdout",
          "text": [
            "['COVID19(27).jpg', 'COVID19(32).jpg', 'COVID19(536).jpg', 'COVID19(397).jpg', 'COVID19(424).jpg', 'COVID19(134).jpg', 'COVID19(348).jpg', 'COVID19(133).jpg', 'COVID19(19).jpg', 'COVID-19 (342).jpg']\n",
            "['NORMAL(1142).jpg', 'NORMAL(549).jpg', 'NORMAL(1140).jpg', 'NORMAL(688).jpg', 'NORMAL(640).jpg', 'NORMAL(32).jpg', 'NORMAL(902).jpg', 'NORMAL(573).jpg', 'NORMAL(596).jpg', 'NORMAL(366).jpg']\n",
            "['COVID19(218).jpg', 'COVID19(124).jpg', 'COVID19(512).jpg', 'COVID19(36).jpg', 'COVID19(186).jpg', 'COVID-19 (540).jpg', 'COVID-19 (863).jpg', 'COVID19(70).jpg', 'COVID-19 (457).jpg', 'COVID19(521).jpg']\n",
            "['NORMAL(199).jpg', 'NORMAL(1175).jpg', 'NORMAL(1359).jpg', 'NORMAL(1431).jpg', 'NORMAL(1333).jpg', 'NORMAL(1520).jpg', 'NORMAL(471).jpg', 'NORMAL(9).jpg', 'NORMAL(455).jpg', 'NORMAL(1327).jpg']\n"
          ]
        }
      ],
      "source": [
        "#print the filenames\n",
        "train_covid_names =os.listdir(train_covid_dir)\n",
        "print(train_covid_names[:10])\n",
        "\n",
        "train_normal_names =os.listdir(train_normal_dir)\n",
        "print(train_normal_names[:10])\n",
        "\n",
        "test_covid_names =os.listdir(test_covid_dir)\n",
        "print(test_covid_names[:10])\n",
        "\n",
        "test_normal_names =os.listdir(test_normal_dir)\n",
        "print(test_normal_names[:10])\n"
      ]
    },
    {
      "cell_type": "code",
      "execution_count": null,
      "metadata": {
        "colab": {
          "base_uri": "https://localhost:8080/"
        },
        "id": "8_PDJQWuBU8U",
        "outputId": "8319cc46-756b-4cc3-ba11-cf2452d3f392"
      },
      "outputs": [
        {
          "output_type": "stream",
          "name": "stdout",
          "text": [
            "Total images present in the training set : 1811\n",
            "Total images present in the testing set : 484\n"
          ]
        }
      ],
      "source": [
        "#print the total no of images present in each dir\n",
        "print(\"Total images present in the training set :\",len(train_covid_names+train_normal_names))\n",
        "print(\"Total images present in the testing set :\", len(test_covid_names+test_normal_names))\n"
      ]
    },
    {
      "cell_type": "markdown",
      "metadata": {
        "id": "NMPZ9t8UBogq"
      },
      "source": [
        "# TASK 3 : Data Visualization"
      ]
    },
    {
      "cell_type": "code",
      "execution_count": null,
      "metadata": {
        "colab": {
          "base_uri": "https://localhost:8080/",
          "height": 1000
        },
        "id": "vryI0-PKBtLF",
        "outputId": "5a45508a-3ec7-4744-98b2-797f87f43828"
      },
      "outputs": [
        {
          "output_type": "stream",
          "name": "stdout",
          "text": [
            "['/content/datasets/Data/train/COVID19/COVID19(27).jpg', '/content/datasets/Data/train/COVID19/COVID19(32).jpg', '/content/datasets/Data/train/COVID19/COVID19(536).jpg', '/content/datasets/Data/train/COVID19/COVID19(397).jpg', '/content/datasets/Data/train/COVID19/COVID19(424).jpg', '/content/datasets/Data/train/COVID19/COVID19(134).jpg', '/content/datasets/Data/train/COVID19/COVID19(348).jpg', '/content/datasets/Data/train/COVID19/COVID19(133).jpg']\n",
            "['/content/datasets/Data/train/NORMAL/NORMAL(1142).jpg', '/content/datasets/Data/train/NORMAL/NORMAL(549).jpg', '/content/datasets/Data/train/NORMAL/NORMAL(1140).jpg', '/content/datasets/Data/train/NORMAL/NORMAL(688).jpg', '/content/datasets/Data/train/NORMAL/NORMAL(640).jpg', '/content/datasets/Data/train/NORMAL/NORMAL(32).jpg', '/content/datasets/Data/train/NORMAL/NORMAL(902).jpg', '/content/datasets/Data/train/NORMAL/NORMAL(573).jpg']\n"
          ]
        },
        {
          "output_type": "display_data",
          "data": {
            "text/plain": [
              "<Figure size 864x864 with 1 Axes>"
            ],
            "image/png": "[encoded data removed]"
          },
          "metadata": {
            "needs_background": "light"
          }
        },
        {
          "output_type": "display_data",
          "data": {
            "text/plain": [
              "<Figure size 432x288 with 1 Axes>"
            ],
            "image/png": "[encoded data removed]"
          },
          "metadata": {
            "needs_background": "light"
          }
        },
        {
          "output_type": "display_data",
          "data": {
            "text/plain": [
              "<Figure size 432x288 with 1 Axes>"
            ],
            "image/png": "[encoded data removed]"
          },
          "metadata": {
            "needs_background": "light"
          }
        },
        {
          "output_type": "display_data",
          "data": {
            "text/plain": [
              "<Figure size 432x288 with 1 Axes>"
            ],
            "image/png": "[encoded data removed]"
          },
          "metadata": {
            "needs_background": "light"
          }
        },
        {
          "output_type": "display_data",
          "data": {
            "text/plain": [
              "<Figure size 432x288 with 1 Axes>"
            ],
            "image/png": "[encoded data removed]"
          },
          "metadata": {
            "needs_background": "light"
          }
        },
        {
          "output_type": "display_data",
          "data": {
            "text/plain": [
              "<Figure size 432x288 with 1 Axes>"
            ],
            "image/png": "[encoded data removed]"
          },
          "metadata": {
            "needs_background": "light"
          }
        },
        {
          "output_type": "display_data",
          "data": {
            "text/plain": [
              "<Figure size 432x288 with 1 Axes>"
            ],
            "image/png": "[encoded data removed]"
          },
          "metadata": {
            "needs_background": "light"
          }
        },
        {
          "output_type": "display_data",
          "data": {
            "text/plain": [
              "<Figure size 432x288 with 1 Axes>"
            ],
            "image/png": "[encoded data removed]"
          },
          "metadata": {
            "needs_background": "light"
          }
        },
        {
          "output_type": "display_data",
          "data": {
            "text/plain": [
              "<Figure size 432x288 with 1 Axes>"
            ],
            "image/png": "[encoded data removed]"
          },
          "metadata": {
            "needs_background": "light"
          }
        },
        {
          "output_type": "display_data",
          "data": {
            "text/plain": [
              "<Figure size 432x288 with 1 Axes>"
            ],
            "image/png": "[encoded data removed]"
          },
          "metadata": {
            "needs_background": "light"
          }
        },
        {
          "output_type": "display_data",
          "data": {
            "text/plain": [
              "<Figure size 432x288 with 1 Axes>"
            ],
            "image/png": "[encoded data removed]"
          },
          "metadata": {
            "needs_background": "light"
          }
        },
        {
          "output_type": "display_data",
          "data": {
            "text/plain": [
              "<Figure size 432x288 with 1 Axes>"
            ],
            "image/png": "[encoded data removed]"
          },
          "metadata": {
            "needs_background": "light"
          }
        },
        {
          "output_type": "display_data",
          "data": {
            "text/plain": [
              "<Figure size 432x288 with 1 Axes>"
            ],
            "image/png": "[encoded data removed]"
          },
          "metadata": {
            "needs_background": "light"
          }
        },
        {
          "output_type": "display_data",
          "data": {
            "text/plain": [
              "<Figure size 432x288 with 1 Axes>"
            ],
            "image/png": "[encoded data removed]"
          },
          "metadata": {
            "needs_background": "light"
          }
        },
        {
          "output_type": "display_data",
          "data": {
            "text/plain": [
              "<Figure size 432x288 with 1 Axes>"
            ],
            "image/png": "[encoded data removed]"
          },
          "metadata": {
            "needs_background": "light"
          }
        },
        {
          "output_type": "display_data",
          "data": {
            "text/plain": [
              "<Figure size 432x288 with 1 Axes>"
            ],
            "image/png": "[encoded data removed]"
          },
          "metadata": {
            "needs_background": "light"
          }
        }
      ],
      "source": [
        "# plot a grid of 16 images (8 images of Covid19 and 8 images of Normal)\n",
        "import matplotlib.image as mpimg\n",
        "#set the number of columns and rows\n",
        "rows = 4\n",
        "cols = 4\n",
        "#set the figure size\n",
        "fig = plt.gcf()\n",
        "fig.set_size_inches(12,12)\n",
        "#get the filenames from the covid & normal dir of the train dataset\n",
        "covid_pic = [os.path.join(train_covid_dir,filename)for filename in train_covid_names[0:8]]\n",
        "normal_pic = [os.path.join(train_normal_dir,filename)for filename in train_normal_names[0:8]]\n",
        "#print the list\n",
        "print(covid_pic)\n",
        "print(normal_pic)\n",
        "#merge the covid and normal list\n",
        "merged_list = covid_pic+normal_pic\n",
        "for i , img_path in enumerate(merged_list):\n",
        "  data = img_path.split('/',6)[6]\n",
        "  sp = plt.subplot(rows, cols, i+1)\n",
        "  sp.axis('Off')\n",
        "  img = mpimg.imread(img_path)\n",
        "  sp.set_title(data,fontsize=10)\n",
        "  plt.imshow(img,cmap='gray')\n",
        "\n",
        "  plt.show()"
      ]
    },
    {
      "cell_type": "markdown",
      "metadata": {
        "id": "UWiQARLdCB9J"
      },
      "source": [
        "# TASK 4 : Data Preprocessing & Augmentation"
      ]
    },
    {
      "cell_type": "code",
      "execution_count": null,
      "metadata": {
        "colab": {
          "base_uri": "https://localhost:8080/"
        },
        "id": "ZU7C28QWB_il",
        "outputId": "35ea1287-a43b-4aa0-ec86-74b1998c101d"
      },
      "outputs": [
        {
          "output_type": "stream",
          "name": "stdout",
          "text": [
            "Found 1449 images belonging to 2 classes.\n",
            "Found 362 images belonging to 2 classes.\n",
            "Found 484 images belonging to 2 classes.\n"
          ]
        }
      ],
      "source": [
        "# generate training,testing and validation batches  \n",
        "dgen_train = ImageDataGenerator(rescale = 1./255,\n",
        "                                validation_split=0.2,\n",
        "                                zoom_range = 0.2,\n",
        "                                horizontal_flip = True)\n",
        "\n",
        "dgen_validation = ImageDataGenerator(rescale = 1./255)\n",
        "dgen_test = ImageDataGenerator(rescale = 1./255)\n",
        "\n",
        "train_generator = dgen_train.flow_from_directory(train_dir,\n",
        "                                                 target_size=(150,150),\n",
        "                                                 subset = 'training',\n",
        "                                                 batch_size = 32,\n",
        "                                                 class_mode = 'binary')\n",
        "\n",
        "validation_generator = dgen_train.flow_from_directory(train_dir,\n",
        "                                                 target_size=(150,150),\n",
        "                                                 subset = 'validation',\n",
        "                                                 batch_size = 32,\n",
        "                                                 class_mode = 'binary')\n",
        "\n",
        "test_generator = dgen_test.flow_from_directory(test_dir,\n",
        "                                                 target_size=(150,150),\n",
        "                                                 batch_size = 32,\n",
        "                                                 class_mode = 'binary')"
      ]
    },
    {
      "cell_type": "code",
      "execution_count": null,
      "metadata": {
        "colab": {
          "base_uri": "https://localhost:8080/"
        },
        "id": "SIdVxgoLGb0K",
        "outputId": "b1e4116d-3421-4842-8f9b-570a54e9523e"
      },
      "outputs": [
        {
          "output_type": "execute_result",
          "data": {
            "text/plain": [
              "{'COVID19': 0, 'NORMAL': 1}"
            ]
          },
          "metadata": {},
          "execution_count": 10
        }
      ],
      "source": [
        "#get the class indices\n",
        "train_generator.class_indices"
      ]
    },
    {
      "cell_type": "code",
      "execution_count": null,
      "metadata": {
        "colab": {
          "base_uri": "https://localhost:8080/"
        },
        "id": "gMe4b6_YGdlt",
        "outputId": "25ecab6a-7d15-4208-cdf9-27afdb9fbce3"
      },
      "outputs": [
        {
          "output_type": "execute_result",
          "data": {
            "text/plain": [
              "(150, 150, 3)"
            ]
          },
          "metadata": {},
          "execution_count": 11
        }
      ],
      "source": [
        "#get the image shape\n",
        "train_generator.image_shape\n",
        "#3 = rgb\n",
        "#1 = grayscale"
      ]
    },
    {
      "cell_type": "markdown",
      "metadata": {
        "id": "ELcsfIibGoK3"
      },
      "source": [
        "# TASK 5 : Build Convolutional Neural Network Model"
      ]
    },
    {
      "cell_type": "code",
      "execution_count": null,
      "metadata": {
        "colab": {
          "base_uri": "https://localhost:8080/"
        },
        "id": "_-pwXOyuGxIq",
        "outputId": "1941c9f7-fab5-4301-ad7e-0d0fb51e5f99"
      },
      "outputs": [
        {
          "output_type": "stream",
          "name": "stdout",
          "text": [
            "Model: \"sequential\"\n",
            "_________________________________________________________________\n",
            " Layer (type)                Output Shape              Param #   \n",
            "=================================================================\n",
            " conv2d (Conv2D)             (None, 150, 150, 32)      2432      \n",
            "                                                                 \n",
            " max_pooling2d (MaxPooling2D  (None, 75, 75, 32)       0         \n",
            " )                                                               \n",
            "                                                                 \n",
            " dropout (Dropout)           (None, 75, 75, 32)        0         \n",
            "                                                                 \n",
            " conv2d_1 (Conv2D)           (None, 75, 75, 64)        51264     \n",
            "                                                                 \n",
            " max_pooling2d_1 (MaxPooling  (None, 37, 37, 64)       0         \n",
            " 2D)                                                             \n",
            "                                                                 \n",
            " dropout_1 (Dropout)         (None, 37, 37, 64)        0         \n",
            "                                                                 \n",
            " flatten (Flatten)           (None, 87616)             0         \n",
            "                                                                 \n",
            " dense (Dense)               (None, 256)               22429952  \n",
            "                                                                 \n",
            " dropout_2 (Dropout)         (None, 256)               0         \n",
            "                                                                 \n",
            " dense_1 (Dense)             (None, 1)                 257       \n",
            "                                                                 \n",
            "=================================================================\n",
            "Total params: 22,483,905\n",
            "Trainable params: 22,483,905\n",
            "Non-trainable params: 0\n",
            "_________________________________________________________________\n"
          ]
        }
      ],
      "source": [
        "model = Sequential()\n",
        "# add the convolutional layer\n",
        "# filters, size of filters,padding,activation_function,input_shape\n",
        "model.add(Conv2D(32,(5,5), padding='SAME',activation='relu', input_shape=(150,150,3)))\n",
        "# pooling layer\n",
        "model.add(MaxPooling2D(pool_size=(2,2)))\n",
        "# place a dropout layer\n",
        "model.add(Dropout(0.5))\n",
        "# add another convolutional layer\n",
        "model.add(Conv2D(64,(5,5), padding='SAME',activation='relu'))\n",
        "# pooling layer\n",
        "model.add(MaxPooling2D(pool_size=(2,2)))\n",
        "# place a dropout layer\n",
        "model.add(Dropout(0.5))\n",
        "# Flatten layer: 2D to 1D\n",
        "model.add(Flatten())\n",
        "# add a dense layer : amount of nodes, activation\n",
        "model.add(Dense(256,activation='relu'))\n",
        "# place a dropout layer\n",
        "# 0.5 drop out rate is recommended, half input nodes will be dropped at each update\n",
        "model.add(Dropout(0.5))\n",
        "model.add(Dense(1,activation='sigmoid'))\n",
        "model.summary()\n"
      ]
    },
    {
      "cell_type": "markdown",
      "metadata": {
        "id": "hgCag-_HHG2N"
      },
      "source": [
        "# TASK 6 : Compile & Train the Model"
      ]
    },
    {
      "cell_type": "code",
      "execution_count": null,
      "metadata": {
        "id": "1iVcxB1ZHNDV",
        "colab": {
          "base_uri": "https://localhost:8080/"
        },
        "outputId": "79df6e60-8018-48e0-8bfd-4096e389bbec"
      },
      "outputs": [
        {
          "output_type": "stream",
          "name": "stderr",
          "text": [
            "/usr/local/lib/python3.8/dist-packages/keras/optimizers/optimizer_v2/adam.py:110: UserWarning: The `lr` argument is deprecated, use `learning_rate` instead.\n",
            "  super(Adam, self).__init__(name, **kwargs)\n"
          ]
        }
      ],
      "source": [
        "#compile the model\n",
        "model.compile(Adam(lr=0.001),loss='binary_crossentropy', metrics=['accuracy'])"
      ]
    },
    {
      "cell_type": "code",
      "execution_count": null,
      "metadata": {
        "colab": {
          "base_uri": "https://localhost:8080/"
        },
        "id": "OWtZjCFlHPQs",
        "outputId": "542310f7-f35e-4e52-e109-1d54e5ae2e9b"
      },
      "outputs": [
        {
          "output_type": "stream",
          "name": "stdout",
          "text": [
            "Epoch 1/30\n",
            "46/46 [==============================] - 54s 978ms/step - loss: 1.1133 - accuracy: 0.7854 - val_loss: 0.3282 - val_accuracy: 0.9448\n",
            "Epoch 2/30\n",
            "46/46 [==============================] - 48s 1s/step - loss: 0.2057 - accuracy: 0.9255 - val_loss: 0.1611 - val_accuracy: 0.9558\n",
            "Epoch 3/30\n",
            "46/46 [==============================] - 45s 987ms/step - loss: 0.1497 - accuracy: 0.9455 - val_loss: 0.1458 - val_accuracy: 0.9503\n",
            "Epoch 4/30\n",
            "46/46 [==============================] - 45s 987ms/step - loss: 0.1768 - accuracy: 0.9406 - val_loss: 0.2317 - val_accuracy: 0.9420\n",
            "Epoch 5/30\n",
            "46/46 [==============================] - 46s 1s/step - loss: 0.1489 - accuracy: 0.9510 - val_loss: 0.1359 - val_accuracy: 0.9448\n",
            "Epoch 6/30\n",
            "46/46 [==============================] - 48s 1s/step - loss: 0.1433 - accuracy: 0.9531 - val_loss: 0.1330 - val_accuracy: 0.9530\n",
            "Epoch 7/30\n",
            "46/46 [==============================] - 45s 987ms/step - loss: 0.1312 - accuracy: 0.9586 - val_loss: 0.1805 - val_accuracy: 0.9558\n",
            "Epoch 8/30\n",
            "46/46 [==============================] - 45s 975ms/step - loss: 0.1351 - accuracy: 0.9614 - val_loss: 0.1345 - val_accuracy: 0.9530\n",
            "Epoch 9/30\n",
            "46/46 [==============================] - 45s 976ms/step - loss: 0.1116 - accuracy: 0.9641 - val_loss: 0.1139 - val_accuracy: 0.9613\n",
            "Epoch 10/30\n",
            "46/46 [==============================] - 47s 1s/step - loss: 0.1059 - accuracy: 0.9676 - val_loss: 0.1109 - val_accuracy: 0.9530\n",
            "Epoch 11/30\n",
            "46/46 [==============================] - 45s 978ms/step - loss: 0.1056 - accuracy: 0.9620 - val_loss: 0.0861 - val_accuracy: 0.9696\n",
            "Epoch 12/30\n",
            "46/46 [==============================] - 45s 980ms/step - loss: 0.1130 - accuracy: 0.9641 - val_loss: 0.1142 - val_accuracy: 0.9669\n",
            "Epoch 13/30\n",
            "46/46 [==============================] - 45s 974ms/step - loss: 0.1179 - accuracy: 0.9593 - val_loss: 0.1882 - val_accuracy: 0.8978\n",
            "Epoch 14/30\n",
            "46/46 [==============================] - 47s 1s/step - loss: 0.1121 - accuracy: 0.9669 - val_loss: 0.1653 - val_accuracy: 0.9309\n",
            "Epoch 15/30\n",
            "46/46 [==============================] - 45s 973ms/step - loss: 0.0967 - accuracy: 0.9724 - val_loss: 0.1016 - val_accuracy: 0.9641\n",
            "Epoch 16/30\n",
            "46/46 [==============================] - 45s 983ms/step - loss: 0.0840 - accuracy: 0.9779 - val_loss: 0.0869 - val_accuracy: 0.9696\n",
            "Epoch 17/30\n",
            "46/46 [==============================] - 47s 1s/step - loss: 0.0850 - accuracy: 0.9758 - val_loss: 0.0797 - val_accuracy: 0.9751\n",
            "Epoch 18/30\n",
            "46/46 [==============================] - 44s 972ms/step - loss: 0.0749 - accuracy: 0.9814 - val_loss: 0.0779 - val_accuracy: 0.9696\n",
            "Epoch 19/30\n",
            "46/46 [==============================] - 44s 964ms/step - loss: 0.0767 - accuracy: 0.9731 - val_loss: 0.0619 - val_accuracy: 0.9807\n",
            "Epoch 20/30\n",
            "46/46 [==============================] - 44s 970ms/step - loss: 0.0772 - accuracy: 0.9745 - val_loss: 0.1089 - val_accuracy: 0.9586\n",
            "Epoch 21/30\n",
            "46/46 [==============================] - 47s 1s/step - loss: 0.0997 - accuracy: 0.9669 - val_loss: 0.0804 - val_accuracy: 0.9641\n",
            "Epoch 22/30\n",
            "46/46 [==============================] - 44s 965ms/step - loss: 0.0716 - accuracy: 0.9786 - val_loss: 0.0746 - val_accuracy: 0.9751\n",
            "Epoch 23/30\n",
            "46/46 [==============================] - 44s 964ms/step - loss: 0.0813 - accuracy: 0.9724 - val_loss: 0.0881 - val_accuracy: 0.9669\n",
            "Epoch 24/30\n",
            "46/46 [==============================] - 44s 958ms/step - loss: 0.0585 - accuracy: 0.9821 - val_loss: 0.0883 - val_accuracy: 0.9751\n",
            "Epoch 25/30\n",
            "46/46 [==============================] - 47s 1s/step - loss: 0.0612 - accuracy: 0.9793 - val_loss: 0.0623 - val_accuracy: 0.9834\n",
            "Epoch 26/30\n",
            "46/46 [==============================] - 44s 966ms/step - loss: 0.0643 - accuracy: 0.9752 - val_loss: 0.0628 - val_accuracy: 0.9807\n",
            "Epoch 27/30\n",
            "46/46 [==============================] - 44s 963ms/step - loss: 0.0655 - accuracy: 0.9772 - val_loss: 0.0857 - val_accuracy: 0.9779\n",
            "Epoch 28/30\n",
            "46/46 [==============================] - 47s 1s/step - loss: 0.2395 - accuracy: 0.9282 - val_loss: 0.1068 - val_accuracy: 0.9586\n",
            "Epoch 29/30\n",
            "46/46 [==============================] - 50s 1s/step - loss: 0.1131 - accuracy: 0.9648 - val_loss: 0.1150 - val_accuracy: 0.9641\n",
            "Epoch 30/30\n",
            "46/46 [==============================] - 46s 993ms/step - loss: 0.0997 - accuracy: 0.9689 - val_loss: 0.1085 - val_accuracy: 0.9641\n"
          ]
        }
      ],
      "source": [
        "#train the model\n",
        "history = model.fit(train_generator,\n",
        "                    epochs = 30,\n",
        "                    validation_data =  validation_generator)"
      ]
    },
    {
      "cell_type": "markdown",
      "metadata": {
        "id": "z95l8IC5HRoG"
      },
      "source": [
        "# TASK 7 : Performance Evaluation"
      ]
    },
    {
      "cell_type": "code",
      "execution_count": null,
      "metadata": {
        "colab": {
          "base_uri": "https://localhost:8080/"
        },
        "id": "M0d8G-BEHXXs",
        "outputId": "b09b8da6-1889-4042-a96a-b7b6712ce20c"
      },
      "outputs": [
        {
          "output_type": "execute_result",
          "data": {
            "text/plain": [
              "dict_keys(['loss', 'accuracy', 'val_loss', 'val_accuracy'])"
            ]
          },
          "metadata": {},
          "execution_count": 15
        }
      ],
      "source": [
        "#get the keys of history object\n",
        "history.history.keys()"
      ]
    },
    {
      "cell_type": "code",
      "execution_count": null,
      "metadata": {
        "colab": {
          "base_uri": "https://localhost:8080/",
          "height": 313
        },
        "id": "EVtqI0QuHbZR",
        "outputId": "c5fa9181-3451-44d6-92b9-c942a18be1d5"
      },
      "outputs": [
        {
          "output_type": "execute_result",
          "data": {
            "text/plain": [
              "Text(0.5, 0, 'epoch')"
            ]
          },
          "metadata": {},
          "execution_count": 16
        },
        {
          "output_type": "display_data",
          "data": {
            "text/plain": [
              "<Figure size 432x288 with 1 Axes>"
            ],
            "image/png": "[encoded data removed]"
          },
          "metadata": {
            "needs_background": "light"
          }
        }
      ],
      "source": [
        "#plot graph between training and validation loss\n",
        "plt.plot(history.history['loss'])\n",
        "plt.plot(history.history['val_loss'])\n",
        "plt.legend(['Training','Validation'])\n",
        "plt.title('Training and validation losses')\n",
        "plt.xlabel('epoch')"
      ]
    },
    {
      "cell_type": "code",
      "execution_count": null,
      "metadata": {
        "colab": {
          "base_uri": "https://localhost:8080/",
          "height": 313
        },
        "id": "CEIibDQOHgfT",
        "outputId": "3022c29c-d23a-49a5-946b-f0f7d45a9fd7"
      },
      "outputs": [
        {
          "output_type": "execute_result",
          "data": {
            "text/plain": [
              "Text(0.5, 0, 'epoch')"
            ]
          },
          "metadata": {},
          "execution_count": 17
        },
        {
          "output_type": "display_data",
          "data": {
            "text/plain": [
              "<Figure size 432x288 with 1 Axes>"
            ],
            "image/png": "[encoded data removed]"
          },
          "metadata": {
            "needs_background": "light"
          }
        }
      ],
      "source": [
        "#plot graph between training and validation accuarcy\n",
        "plt.plot(history.history['accuracy'])\n",
        "plt.plot(history.history['val_accuracy'])\n",
        "plt.legend(['Training','Validation'])\n",
        "plt.title('Training and validation accuracy')\n",
        "plt.xlabel('epoch')"
      ]
    },
    {
      "cell_type": "code",
      "execution_count": null,
      "metadata": {
        "colab": {
          "base_uri": "https://localhost:8080/"
        },
        "id": "U9Zm__wJHm3v",
        "outputId": "9771aecb-c86d-49c2-bf22-d5a5a4dca48d"
      },
      "outputs": [
        {
          "output_type": "stream",
          "name": "stdout",
          "text": [
            "16/16 [==============================] - 10s 607ms/step - loss: 0.1006 - accuracy: 0.9711\n",
            "test loss :0.10063444823026657 test acc :0.9710744023323059\n"
          ]
        }
      ],
      "source": [
        "# get the test acuarcy and loss\n",
        "test_loss , test_acc = model.evaluate(test_generator)\n",
        "print('test loss :{} test acc :{}'.format(test_loss,test_acc))"
      ]
    },
    {
      "cell_type": "markdown",
      "metadata": {
        "id": "-AZjx1Q2HseZ"
      },
      "source": [
        "# TASK 8 : Prediction On New Data"
      ]
    },
    {
      "cell_type": "code",
      "execution_count": null,
      "metadata": {
        "id": "b5qflf3jH3o_",
        "colab": {
          "base_uri": "https://localhost:8080/",
          "height": 127
        },
        "outputId": "3ab6784a-401d-403e-ca52-a310387d6ffb"
      },
      "outputs": [
        {
          "output_type": "display_data",
          "data": {
            "text/plain": [
              "<IPython.core.display.HTML object>"
            ],
            "text/html": [
              "\n",
              "     <input type=\"file\" id=\"files-e387a92b-0d68-4978-a288-b78f704f0557\" name=\"files[]\" multiple disabled\n",
              "        style=\"border:none\" />\n",
              "     <output id=\"result-e387a92b-0d68-4978-a288-b78f704f0557\">\n",
              "      Upload widget is only available when the cell has been executed in the\n",
              "      current browser session. Please rerun this cell to enable.\n",
              "      </output>\n",
              "      <script>// Copyright 2017 Google LLC\n",
              "//\n",
              "// Licensed under the Apache License, Version 2.0 (the \"License\");\n",
              "// you may not use this file except in compliance with the License.\n",
              "// You may obtain a copy of the License at\n",
              "//\n",
              "//      http://www.apache.org/licenses/LICENSE-2.0\n",
              "//\n",
              "// Unless required by applicable law or agreed to in writing, software\n",
              "// distributed under the License is distributed on an \"AS IS\" BASIS,\n",
              "// WITHOUT WARRANTIES OR CONDITIONS OF ANY KIND, either express or implied.\n",
              "// See the License for the specific language governing permissions and\n",
              "// limitations under the License.\n",
              "\n",
              "/**\n",
              " * @fileoverview Helpers for google.colab Python module.\n",
              " */\n",
              "(function(scope) {\n",
              "function span(text, styleAttributes = {}) {\n",
              "  const element = document.createElement('span');\n",
              "  element.textContent = text;\n",
              "  for (const key of Object.keys(styleAttributes)) {\n",
              "    element.style[key] = styleAttributes[key];\n",
              "  }\n",
              "  return element;\n",
              "}\n",
              "\n",
              "// Max number of bytes which will be uploaded at a time.\n",
              "const MAX_PAYLOAD_SIZE = 100 * 1024;\n",
              "\n",
              "function _uploadFiles(inputId, outputId) {\n",
              "  const steps = uploadFilesStep(inputId, outputId);\n",
              "  const outputElement = document.getElementById(outputId);\n",
              "  // Cache steps on the outputElement to make it available for the next call\n",
              "  // to uploadFilesContinue from Python.\n",
              "  outputElement.steps = steps;\n",
              "\n",
              "  return _uploadFilesContinue(outputId);\n",
              "}\n",
              "\n",
              "// This is roughly an async generator (not supported in the browser yet),\n",
              "// where there are multiple asynchronous steps and the Python side is going\n",
              "// to poll for completion of each step.\n",
              "// This uses a Promise to block the python side on completion of each step,\n",
              "// then passes the result of the previous step as the input to the next step.\n",
              "function _uploadFilesContinue(outputId) {\n",
              "  const outputElement = document.getElementById(outputId);\n",
              "  const steps = outputElement.steps;\n",
              "\n",
              "  const next = steps.next(outputElement.lastPromiseValue);\n",
              "  return Promise.resolve(next.value.promise).then((value) => {\n",
              "    // Cache the last promise value to make it available to the next\n",
              "    // step of the generator.\n",
              "    outputElement.lastPromiseValue = value;\n",
              "    return next.value.response;\n",
              "  });\n",
              "}\n",
              "\n",
              "/**\n",
              " * Generator function which is called between each async step of the upload\n",
              " * process.\n",
              " * @param {string} inputId Element ID of the input file picker element.\n",
              " * @param {string} outputId Element ID of the output display.\n",
              " * @return {!Iterable<!Object>} Iterable of next steps.\n",
              " */\n",
              "function* uploadFilesStep(inputId, outputId) {\n",
              "  const inputElement = document.getElementById(inputId);\n",
              "  inputElement.disabled = false;\n",
              "\n",
              "  const outputElement = document.getElementById(outputId);\n",
              "  outputElement.innerHTML = '';\n",
              "\n",
              "  const pickedPromise = new Promise((resolve) => {\n",
              "    inputElement.addEventListener('change', (e) => {\n",
              "      resolve(e.target.files);\n",
              "    });\n",
              "  });\n",
              "\n",
              "  const cancel = document.createElement('button');\n",
              "  inputElement.parentElement.appendChild(cancel);\n",
              "  cancel.textContent = 'Cancel upload';\n",
              "  const cancelPromise = new Promise((resolve) => {\n",
              "    cancel.onclick = () => {\n",
              "      resolve(null);\n",
              "    };\n",
              "  });\n",
              "\n",
              "  // Wait for the user to pick the files.\n",
              "  const files = yield {\n",
              "    promise: Promise.race([pickedPromise, cancelPromise]),\n",
              "    response: {\n",
              "      action: 'starting',\n",
              "    }\n",
              "  };\n",
              "\n",
              "  cancel.remove();\n",
              "\n",
              "  // Disable the input element since further picks are not allowed.\n",
              "  inputElement.disabled = true;\n",
              "\n",
              "  if (!files) {\n",
              "    return {\n",
              "      response: {\n",
              "        action: 'complete',\n",
              "      }\n",
              "    };\n",
              "  }\n",
              "\n",
              "  for (const file of files) {\n",
              "    const li = document.createElement('li');\n",
              "    li.append(span(file.name, {fontWeight: 'bold'}));\n",
              "    li.append(span(\n",
              "        `(${file.type || 'n/a'}) - ${file.size} bytes, ` +\n",
              "        `last modified: ${\n",
              "            file.lastModifiedDate ? file.lastModifiedDate.toLocaleDateString() :\n",
              "                                    'n/a'} - `));\n",
              "    const percent = span('0% done');\n",
              "    li.appendChild(percent);\n",
              "\n",
              "    outputElement.appendChild(li);\n",
              "\n",
              "    const fileDataPromise = new Promise((resolve) => {\n",
              "      const reader = new FileReader();\n",
              "      reader.onload = (e) => {\n",
              "        resolve(e.target.result);\n",
              "      };\n",
              "      reader.readAsArrayBuffer(file);\n",
              "    });\n",
              "    // Wait for the data to be ready.\n",
              "    let fileData = yield {\n",
              "      promise: fileDataPromise,\n",
              "      response: {\n",
              "        action: 'continue',\n",
              "      }\n",
              "    };\n",
              "\n",
              "    // Use a chunked sending to avoid message size limits. See b/62115660.\n",
              "    let position = 0;\n",
              "    do {\n",
              "      const length = Math.min(fileData.byteLength - position, MAX_PAYLOAD_SIZE);\n",
              "      const chunk = new Uint8Array(fileData, position, length);\n",
              "      position += length;\n",
              "\n",
              "      const base64 = btoa(String.fromCharCode.apply(null, chunk));\n",
              "      yield {\n",
              "        response: {\n",
              "          action: 'append',\n",
              "          file: file.name,\n",
              "          data: base64,\n",
              "        },\n",
              "      };\n",
              "\n",
              "      let percentDone = fileData.byteLength === 0 ?\n",
              "          100 :\n",
              "          Math.round((position / fileData.byteLength) * 100);\n",
              "      percent.textContent = `${percentDone}% done`;\n",
              "\n",
              "    } while (position < fileData.byteLength);\n",
              "  }\n",
              "\n",
              "  // All done.\n",
              "  yield {\n",
              "    response: {\n",
              "      action: 'complete',\n",
              "    }\n",
              "  };\n",
              "}\n",
              "\n",
              "scope.google = scope.google || {};\n",
              "scope.google.colab = scope.google.colab || {};\n",
              "scope.google.colab._files = {\n",
              "  _uploadFiles,\n",
              "  _uploadFilesContinue,\n",
              "};\n",
              "})(self);\n",
              "</script> "
            ]
          },
          "metadata": {}
        },
        {
          "output_type": "stream",
          "name": "stdout",
          "text": [
            "Saving Chest.jpeg to Chest (2).jpeg\n",
            "1/1 [==============================] - 0s 15ms/step\n",
            "Chest.jpeg\n",
            "COVID detected\n"
          ]
        }
      ],
      "source": [
        "from google.colab import files\n",
        "from tensorflow.keras.utils import load_img, img_to_array\n",
        "uploaded = files.upload()\n",
        "for filename in uploaded.keys():\n",
        "  img_path = '/content/'+filename\n",
        "  img  = tensorflow.keras.utils.load_img(img_path, target_size = (150,150))\n",
        "  images = tensorflow.keras.utils.img_to_array(img)\n",
        "  images = np.expand_dims(images, axis=0)\n",
        "  prediction = model.predict(images)\n",
        "  print(filename)\n",
        "  if prediction == 0:\n",
        "    print('COVID detected')\n",
        "  else:\n",
        "    print('Your report is normal')"
      ]
    },
    {
      "cell_type": "code",
      "source": [
        "import pickle"
      ],
      "metadata": {
        "id": "hUjbrZsRMNK7"
      },
      "execution_count": null,
      "outputs": []
    },
    {
      "cell_type": "code",
      "source": [
        "filename = 'CovidXR.sav'\n",
        "pickle.dump(model, open(filename, 'wb'))"
      ],
      "metadata": {
        "colab": {
          "base_uri": "https://localhost:8080/"
        },
        "id": "l2gnExexNIn-",
        "outputId": "55f5c956-0632-45f5-a7f9-fb1979fec616"
      },
      "execution_count": null,
      "outputs": [
        {
          "output_type": "stream",
          "name": "stderr",
          "text": [
            "WARNING:absl:Found untraced functions such as _jit_compiled_convolution_op, _jit_compiled_convolution_op while saving (showing 2 of 2). These functions will not be directly callable after loading.\n"
          ]
        }
      ]
    },
    {
      "cell_type": "code",
      "source": [
        "loaded_model = pickle.load(open('CovidXR.sav', 'rb'))"
      ],
      "metadata": {
        "id": "c-mJgPRxNYgq"
      },
      "execution_count": null,
      "outputs": []
    },
    {
      "cell_type": "code",
      "source": [
        "from google.colab import files\n",
        "from tensorflow.keras.utils import load_img, img_to_array\n",
        "uploaded = files.upload()\n",
        "for filename in uploaded.keys():\n",
        "  img_path = '/content/'+filename\n",
        "  img  = tensorflow.keras.utils.load_img(img_path, target_size = (150,150))\n",
        "  images = tensorflow.keras.utils.img_to_array(img)\n",
        "  images = np.expand_dims(images, axis=0)\n",
        "  prediction = loaded_model.predict(images)\n",
        "  print(filename)\n",
        "  if prediction == 0:\n",
        "    print('COVID detected')\n",
        "  else:\n",
        "    print('Your report is normal')"
      ],
      "metadata": {
        "colab": {
          "base_uri": "https://localhost:8080/",
          "height": 127
        },
        "id": "-0HJt3pHN1Ft",
        "outputId": "5e301d4d-ebf6-4f4d-9d9f-bcea0bdefed8"
      },
      "execution_count": null,
      "outputs": [
        {
          "output_type": "display_data",
          "data": {
            "text/plain": [
              "<IPython.core.display.HTML object>"
            ],
            "text/html": [
              "\n",
              "     <input type=\"file\" id=\"files-80ead5f1-e54e-4b46-82c6-64b50785f3e3\" name=\"files[]\" multiple disabled\n",
              "        style=\"border:none\" />\n",
              "     <output id=\"result-80ead5f1-e54e-4b46-82c6-64b50785f3e3\">\n",
              "      Upload widget is only available when the cell has been executed in the\n",
              "      current browser session. Please rerun this cell to enable.\n",
              "      </output>\n",
              "      <script>// Copyright 2017 Google LLC\n",
              "//\n",
              "// Licensed under the Apache License, Version 2.0 (the \"License\");\n",
              "// you may not use this file except in compliance with the License.\n",
              "// You may obtain a copy of the License at\n",
              "//\n",
              "//      http://www.apache.org/licenses/LICENSE-2.0\n",
              "//\n",
              "// Unless required by applicable law or agreed to in writing, software\n",
              "// distributed under the License is distributed on an \"AS IS\" BASIS,\n",
              "// WITHOUT WARRANTIES OR CONDITIONS OF ANY KIND, either express or implied.\n",
              "// See the License for the specific language governing permissions and\n",
              "// limitations under the License.\n",
              "\n",
              "/**\n",
              " * @fileoverview Helpers for google.colab Python module.\n",
              " */\n",
              "(function(scope) {\n",
              "function span(text, styleAttributes = {}) {\n",
              "  const element = document.createElement('span');\n",
              "  element.textContent = text;\n",
              "  for (const key of Object.keys(styleAttributes)) {\n",
              "    element.style[key] = styleAttributes[key];\n",
              "  }\n",
              "  return element;\n",
              "}\n",
              "\n",
              "// Max number of bytes which will be uploaded at a time.\n",
              "const MAX_PAYLOAD_SIZE = 100 * 1024;\n",
              "\n",
              "function _uploadFiles(inputId, outputId) {\n",
              "  const steps = uploadFilesStep(inputId, outputId);\n",
              "  const outputElement = document.getElementById(outputId);\n",
              "  // Cache steps on the outputElement to make it available for the next call\n",
              "  // to uploadFilesContinue from Python.\n",
              "  outputElement.steps = steps;\n",
              "\n",
              "  return _uploadFilesContinue(outputId);\n",
              "}\n",
              "\n",
              "// This is roughly an async generator (not supported in the browser yet),\n",
              "// where there are multiple asynchronous steps and the Python side is going\n",
              "// to poll for completion of each step.\n",
              "// This uses a Promise to block the python side on completion of each step,\n",
              "// then passes the result of the previous step as the input to the next step.\n",
              "function _uploadFilesContinue(outputId) {\n",
              "  const outputElement = document.getElementById(outputId);\n",
              "  const steps = outputElement.steps;\n",
              "\n",
              "  const next = steps.next(outputElement.lastPromiseValue);\n",
              "  return Promise.resolve(next.value.promise).then((value) => {\n",
              "    // Cache the last promise value to make it available to the next\n",
              "    // step of the generator.\n",
              "    outputElement.lastPromiseValue = value;\n",
              "    return next.value.response;\n",
              "  });\n",
              "}\n",
              "\n",
              "/**\n",
              " * Generator function which is called between each async step of the upload\n",
              " * process.\n",
              " * @param {string} inputId Element ID of the input file picker element.\n",
              " * @param {string} outputId Element ID of the output display.\n",
              " * @return {!Iterable<!Object>} Iterable of next steps.\n",
              " */\n",
              "function* uploadFilesStep(inputId, outputId) {\n",
              "  const inputElement = document.getElementById(inputId);\n",
              "  inputElement.disabled = false;\n",
              "\n",
              "  const outputElement = document.getElementById(outputId);\n",
              "  outputElement.innerHTML = '';\n",
              "\n",
              "  const pickedPromise = new Promise((resolve) => {\n",
              "    inputElement.addEventListener('change', (e) => {\n",
              "      resolve(e.target.files);\n",
              "    });\n",
              "  });\n",
              "\n",
              "  const cancel = document.createElement('button');\n",
              "  inputElement.parentElement.appendChild(cancel);\n",
              "  cancel.textContent = 'Cancel upload';\n",
              "  const cancelPromise = new Promise((resolve) => {\n",
              "    cancel.onclick = () => {\n",
              "      resolve(null);\n",
              "    };\n",
              "  });\n",
              "\n",
              "  // Wait for the user to pick the files.\n",
              "  const files = yield {\n",
              "    promise: Promise.race([pickedPromise, cancelPromise]),\n",
              "    response: {\n",
              "      action: 'starting',\n",
              "    }\n",
              "  };\n",
              "\n",
              "  cancel.remove();\n",
              "\n",
              "  // Disable the input element since further picks are not allowed.\n",
              "  inputElement.disabled = true;\n",
              "\n",
              "  if (!files) {\n",
              "    return {\n",
              "      response: {\n",
              "        action: 'complete',\n",
              "      }\n",
              "    };\n",
              "  }\n",
              "\n",
              "  for (const file of files) {\n",
              "    const li = document.createElement('li');\n",
              "    li.append(span(file.name, {fontWeight: 'bold'}));\n",
              "    li.append(span(\n",
              "        `(${file.type || 'n/a'}) - ${file.size} bytes, ` +\n",
              "        `last modified: ${\n",
              "            file.lastModifiedDate ? file.lastModifiedDate.toLocaleDateString() :\n",
              "                                    'n/a'} - `));\n",
              "    const percent = span('0% done');\n",
              "    li.appendChild(percent);\n",
              "\n",
              "    outputElement.appendChild(li);\n",
              "\n",
              "    const fileDataPromise = new Promise((resolve) => {\n",
              "      const reader = new FileReader();\n",
              "      reader.onload = (e) => {\n",
              "        resolve(e.target.result);\n",
              "      };\n",
              "      reader.readAsArrayBuffer(file);\n",
              "    });\n",
              "    // Wait for the data to be ready.\n",
              "    let fileData = yield {\n",
              "      promise: fileDataPromise,\n",
              "      response: {\n",
              "        action: 'continue',\n",
              "      }\n",
              "    };\n",
              "\n",
              "    // Use a chunked sending to avoid message size limits. See b/62115660.\n",
              "    let position = 0;\n",
              "    do {\n",
              "      const length = Math.min(fileData.byteLength - position, MAX_PAYLOAD_SIZE);\n",
              "      const chunk = new Uint8Array(fileData, position, length);\n",
              "      position += length;\n",
              "\n",
              "      const base64 = btoa(String.fromCharCode.apply(null, chunk));\n",
              "      yield {\n",
              "        response: {\n",
              "          action: 'append',\n",
              "          file: file.name,\n",
              "          data: base64,\n",
              "        },\n",
              "      };\n",
              "\n",
              "      let percentDone = fileData.byteLength === 0 ?\n",
              "          100 :\n",
              "          Math.round((position / fileData.byteLength) * 100);\n",
              "      percent.textContent = `${percentDone}% done`;\n",
              "\n",
              "    } while (position < fileData.byteLength);\n",
              "  }\n",
              "\n",
              "  // All done.\n",
              "  yield {\n",
              "    response: {\n",
              "      action: 'complete',\n",
              "    }\n",
              "  };\n",
              "}\n",
              "\n",
              "scope.google = scope.google || {};\n",
              "scope.google.colab = scope.google.colab || {};\n",
              "scope.google.colab._files = {\n",
              "  _uploadFiles,\n",
              "  _uploadFilesContinue,\n",
              "};\n",
              "})(self);\n",
              "</script> "
            ]
          },
          "metadata": {}
        },
        {
          "output_type": "stream",
          "name": "stdout",
          "text": [
            "Saving Chest.jpeg to Chest (3).jpeg\n",
            "1/1 [==============================] - 0s 85ms/step\n",
            "Chest.jpeg\n",
            "COVID detected\n"
          ]
        }
      ]
    }
  ],
  "metadata": {
    "accelerator": "GPU",
    "colab": {
      "provenance": []
    },
    "gpuClass": "standard",
    "kernelspec": {
      "display_name": "Python 3",
      "name": "python3"
    }
  },
  "nbformat": 4,
  "nbformat_minor": 0
}