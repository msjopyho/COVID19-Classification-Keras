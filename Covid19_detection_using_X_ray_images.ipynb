{
  "cells": [
    {
      "cell_type": "markdown",
      "metadata": {
        "id": "view-in-github",
        "colab_type": "text"
      },
      "source": [
        "<a href=\"https://colab.research.google.com/github/msjopyho/COVID19-Classification-Keras/blob/main/Covid19_detection_using_X_ray_images.ipynb\" target=\"_parent\"><img src=\"https://colab.research.google.com/assets/colab-badge.svg\" alt=\"Open In Colab\"/></a>"
      ]
    },
    {
      "cell_type": "markdown",
      "metadata": {
        "id": "vWxzGS08AcVK"
      },
      "source": [
        "# TASK 1 : Import Libraries"
      ]
    },
    {
      "cell_type": "code",
      "source": [
        "from google.colab import drive\n",
        "drive.mount('/content/drive')"
      ],
      "metadata": {
        "id": "_sRplygk-qr3",
        "colab": {
          "base_uri": "https://localhost:8080/"
        },
        "outputId": "76ae4f73-0a43-4ad6-d8c9-e2fb1157fed1"
      },
      "execution_count": 2,
      "outputs": [
        {
          "output_type": "stream",
          "name": "stdout",
          "text": [
            "Mounted at /content/drive\n"
          ]
        }
      ]
    },
    {
      "cell_type": "code",
      "execution_count": 3,
      "metadata": {
        "id": "CDBYcQCeAUAp"
      },
      "outputs": [],
      "source": [
        "import tensorflow \n",
        "from tensorflow.keras.models import Sequential \n",
        "from tensorflow.keras.layers import Conv2D , MaxPooling2D, Dropout, Flatten, Dense\n",
        "from tensorflow.keras.optimizers import Adam\n",
        "from tensorflow.keras.preprocessing.image import ImageDataGenerator\n",
        "from tensorflow.keras.utils import load_img, img_to_array\n",
        "import numpy as np\n",
        "import matplotlib.pyplot as plt"
      ]
    },
    {
      "cell_type": "markdown",
      "metadata": {
        "id": "hMRiBWpYAiOQ"
      },
      "source": [
        "# TASK 2 : Clone & Explore dataset"
      ]
    },
    {
      "cell_type": "code",
      "execution_count": 4,
      "metadata": {
        "id": "lY1sIb7GI_m5",
        "colab": {
          "base_uri": "https://localhost:8080/"
        },
        "outputId": "6e64a13b-03a2-491b-b2ad-91312ec18c34"
      },
      "outputs": [
        {
          "output_type": "stream",
          "name": "stdout",
          "text": [
            "Cloning into 'datasets'...\n",
            "remote: Enumerating objects: 2301, done.\u001b[K\n",
            "remote: Total 2301 (delta 0), reused 0 (delta 0), pack-reused 2301\u001b[K\n",
            "Receiving objects: 100% (2301/2301), 1.31 GiB | 27.63 MiB/s, done.\n",
            "Checking out files: 100% (2295/2295), done.\n"
          ]
        }
      ],
      "source": [
        "#clone the dataset from the github repository\n",
        "! git clone https://github.com/education454/datasets.git"
      ]
    },
    {
      "cell_type": "code",
      "execution_count": 5,
      "metadata": {
        "id": "qv3ykJOtAn7k"
      },
      "outputs": [],
      "source": [
        "#set the path to the main dir\n",
        "import os\n",
        "main_dir = \"/content/datasets/Data\"\n",
        "\n",
        "#set the path to the train dir\n",
        "train_dir = os.path.join(main_dir, 'train')\n",
        "\n",
        "#set the path to the test dir\n",
        "test_dir = os.path.join(main_dir, 'test')\n",
        "\n",
        "\n",
        "#directory with the training covid images\n",
        "train_covid_dir = os.path.join(train_dir, 'COVID19')\n",
        "\n",
        "#directory with the training normal images\n",
        "train_normal_dir = os.path.join(train_dir, 'NORMAL')\n",
        "#directory with the testing covid images\n",
        "test_covid_dir = os.path.join(test_dir, 'COVID19')\n",
        "#directory with the testing normal images\n",
        "test_normal_dir = os.path.join(test_dir, 'NORMAL')"
      ]
    },
    {
      "cell_type": "code",
      "execution_count": 6,
      "metadata": {
        "id": "s_QyIqfcBUwv",
        "colab": {
          "base_uri": "https://localhost:8080/"
        },
        "outputId": "b3d14654-9f56-4b3c-f4ae-129a9a1854ff"
      },
      "outputs": [
        {
          "output_type": "stream",
          "name": "stdout",
          "text": [
            "['COVID19(90).jpg', 'COVID19(136).jpg', 'COVID19(150).jpg', 'COVID19(480).jpg', 'COVID19(208).jpg', 'COVID19(101).jpg', 'COVID19(313).jpg', 'COVID19(277).jpg', 'COVID19(485).jpg', 'COVID19(565).jpg']\n",
            "['NORMAL(836).jpg', 'NORMAL(1046).jpg', 'NORMAL(677).jpg', 'NORMAL(932).jpg', 'NORMAL(815).jpg', 'NORMAL(497).jpg', 'NORMAL(292).jpg', 'NORMAL(699).jpg', 'NORMAL(1224).jpg', 'NORMAL(15).jpg']\n",
            "['COVID-19 (871).jpg', 'COVID19(172).jpg', 'COVID19(177).jpg', 'COVID19(437).jpg', 'COVID-19 (731).jpg', 'COVID19(355).jpg', 'COVID19(408).jpg', 'COVID19(358).jpg', 'COVID19(391).jpg', 'COVID19(465).jpg']\n",
            "['NORMAL(412).jpg', 'NORMAL(936).jpg', 'NORMAL(1402).jpg', 'NORMAL(623).jpg', 'NORMAL(731).jpg', 'NORMAL(847).jpg', 'NORMAL(1088).jpg', 'NORMAL(1411).jpg', 'NORMAL(424).jpg', 'NORMAL(475).jpg']\n"
          ]
        }
      ],
      "source": [
        "#print the filenames\n",
        "train_covid_names =os.listdir(train_covid_dir)\n",
        "print(train_covid_names[:10])\n",
        "\n",
        "train_normal_names =os.listdir(train_normal_dir)\n",
        "print(train_normal_names[:10])\n",
        "\n",
        "test_covid_names =os.listdir(test_covid_dir)\n",
        "print(test_covid_names[:10])\n",
        "\n",
        "test_normal_names =os.listdir(test_normal_dir)\n",
        "print(test_normal_names[:10])\n"
      ]
    },
    {
      "cell_type": "code",
      "execution_count": 7,
      "metadata": {
        "id": "8_PDJQWuBU8U",
        "colab": {
          "base_uri": "https://localhost:8080/"
        },
        "outputId": "d3880eba-53d9-42aa-e28a-e11aa17dfb54"
      },
      "outputs": [
        {
          "output_type": "stream",
          "name": "stdout",
          "text": [
            "Total images present in the training set : 1811\n",
            "Total images present in the testing set : 484\n"
          ]
        }
      ],
      "source": [
        "#print the total no of images present in each dir\n",
        "print(\"Total images present in the training set :\",len(train_covid_names+train_normal_names))\n",
        "print(\"Total images present in the testing set :\", len(test_covid_names+test_normal_names))\n"
      ]
    },
    {
      "cell_type": "markdown",
      "metadata": {
        "id": "NMPZ9t8UBogq"
      },
      "source": [
        "# TASK 3 : Data Visualization"
      ]
    },
    {
      "cell_type": "code",
      "execution_count": 8,
      "metadata": {
        "id": "vryI0-PKBtLF",
        "colab": {
          "base_uri": "https://localhost:8080/",
          "height": 1000
        },
        "outputId": "ee96ec16-8c29-4f1f-f8f5-26682b3cb932"
      },
      "outputs": [
        {
          "output_type": "stream",
          "name": "stdout",
          "text": [
            "['/content/datasets/Data/train/COVID19/COVID19(90).jpg', '/content/datasets/Data/train/COVID19/COVID19(136).jpg', '/content/datasets/Data/train/COVID19/COVID19(150).jpg', '/content/datasets/Data/train/COVID19/COVID19(480).jpg', '/content/datasets/Data/train/COVID19/COVID19(208).jpg', '/content/datasets/Data/train/COVID19/COVID19(101).jpg', '/content/datasets/Data/train/COVID19/COVID19(313).jpg', '/content/datasets/Data/train/COVID19/COVID19(277).jpg']\n",
            "['/content/datasets/Data/train/NORMAL/NORMAL(836).jpg', '/content/datasets/Data/train/NORMAL/NORMAL(1046).jpg', '/content/datasets/Data/train/NORMAL/NORMAL(677).jpg', '/content/datasets/Data/train/NORMAL/NORMAL(932).jpg', '/content/datasets/Data/train/NORMAL/NORMAL(815).jpg', '/content/datasets/Data/train/NORMAL/NORMAL(497).jpg', '/content/datasets/Data/train/NORMAL/NORMAL(292).jpg', '/content/datasets/Data/train/NORMAL/NORMAL(699).jpg']\n"
          ]
        },
        {
          "output_type": "display_data",
          "data": {
            "text/plain": [
              "<Figure size 864x864 with 1 Axes>"
            ],
            "image/png": "[encoded data removed]"
          },
          "metadata": {
            "needs_background": "light"
          }
        },
        {
          "output_type": "display_data",
          "data": {
            "text/plain": [
              "<Figure size 432x288 with 1 Axes>"
            ],
            "image/png": "[encoded data removed]"
          },
          "metadata": {
            "needs_background": "light"
          }
        },
        {
          "output_type": "display_data",
          "data": {
            "text/plain": [
              "<Figure size 432x288 with 1 Axes>"
            ],
            "image/png": "[encoded data removed]"
          },
          "metadata": {
            "needs_background": "light"
          }
        },
        {
          "output_type": "display_data",
          "data": {
            "text/plain": [
              "<Figure size 432x288 with 1 Axes>"
            ],
            "image/png": "[encoded data removed]"
          },
          "metadata": {
            "needs_background": "light"
          }
        },
        {
          "output_type": "display_data",
          "data": {
            "text/plain": [
              "<Figure size 432x288 with 1 Axes>"
            ],
            "image/png": "[encoded data removed]"
          },
          "metadata": {
            "needs_background": "light"
          }
        },
        {
          "output_type": "display_data",
          "data": {
            "text/plain": [
              "<Figure size 432x288 with 1 Axes>"
            ],
            "image/png": "[encoded data removed]"
          },
          "metadata": {
            "needs_background": "light"
          }
        },
        {
          "output_type": "display_data",
          "data": {
            "text/plain": [
              "<Figure size 432x288 with 1 Axes>"
            ],
            "image/png": "[encoded data removed]"
          },
          "metadata": {
            "needs_background": "light"
          }
        },
        {
          "output_type": "display_data",
          "data": {
            "text/plain": [
              "<Figure size 432x288 with 1 Axes>"
            ],
            "image/png": "[encoded data removed]"
          },
          "metadata": {
            "needs_background": "light"
          }
        },
        {
          "output_type": "display_data",
          "data": {
            "text/plain": [
              "<Figure size 432x288 with 1 Axes>"
            ],
            "image/png": "[encoded data removed]"
          },
          "metadata": {
            "needs_background": "light"
          }
        },
        {
          "output_type": "display_data",
          "data": {
            "text/plain": [
              "<Figure size 432x288 with 1 Axes>"
            ],
            "image/png": "[encoded data removed]"
          },
          "metadata": {
            "needs_background": "light"
          }
        },
        {
          "output_type": "display_data",
          "data": {
            "text/plain": [
              "<Figure size 432x288 with 1 Axes>"
            ],
            "image/png": "[encoded data removed]"
          },
          "metadata": {
            "needs_background": "light"
          }
        },
        {
          "output_type": "display_data",
          "data": {
            "text/plain": [
              "<Figure size 432x288 with 1 Axes>"
            ],
            "image/png": "[encoded data removed]"
          },
          "metadata": {
            "needs_background": "light"
          }
        },
        {
          "output_type": "display_data",
          "data": {
            "text/plain": [
              "<Figure size 432x288 with 1 Axes>"
            ],
            "image/png": "[encoded data removed]"
          },
          "metadata": {
            "needs_background": "light"
          }
        },
        {
          "output_type": "display_data",
          "data": {
            "text/plain": [
              "<Figure size 432x288 with 1 Axes>"
            ],
            "image/png": "[encoded data removed]"
          },
          "metadata": {
            "needs_background": "light"
          }
        },
        {
          "output_type": "display_data",
          "data": {
            "text/plain": [
              "<Figure size 432x288 with 1 Axes>"
            ],
            "image/png": "[encoded data removed]"
          },
          "metadata": {
            "needs_background": "light"
          }
        },
        {
          "output_type": "display_data",
          "data": {
            "text/plain": [
              "<Figure size 432x288 with 1 Axes>"
            ],
            "image/png": "[encoded data removed]"
          },
          "metadata": {
            "needs_background": "light"
          }
        }
      ],
      "source": [
        "# plot a grid of 16 images (8 images of Covid19 and 8 images of Normal)\n",
        "import matplotlib.image as mpimg\n",
        "#set the number of columns and rows\n",
        "rows = 4\n",
        "cols = 4\n",
        "#set the figure size\n",
        "fig = plt.gcf()\n",
        "fig.set_size_inches(12,12)\n",
        "#get the filenames from the covid & normal dir of the train dataset\n",
        "covid_pic = [os.path.join(train_covid_dir,filename)for filename in train_covid_names[0:8]]\n",
        "normal_pic = [os.path.join(train_normal_dir,filename)for filename in train_normal_names[0:8]]\n",
        "#print the list\n",
        "print(covid_pic)\n",
        "print(normal_pic)\n",
        "#merge the covid and normal list\n",
        "merged_list = covid_pic+normal_pic\n",
        "for i , img_path in enumerate(merged_list):\n",
        "  data = img_path.split('/',6)[6]\n",
        "  sp = plt.subplot(rows, cols, i+1)\n",
        "  sp.axis('Off')\n",
        "  img = mpimg.imread(img_path)\n",
        "  sp.set_title(data,fontsize=10)\n",
        "  plt.imshow(img,cmap='gray')\n",
        "\n",
        "  plt.show()"
      ]
    },
    {
      "cell_type": "markdown",
      "metadata": {
        "id": "UWiQARLdCB9J"
      },
      "source": [
        "# TASK 4 : Data Preprocessing & Augmentation"
      ]
    },
    {
      "cell_type": "code",
      "execution_count": 9,
      "metadata": {
        "id": "ZU7C28QWB_il",
        "colab": {
          "base_uri": "https://localhost:8080/"
        },
        "outputId": "31aa708f-3168-4d01-a294-206755613153"
      },
      "outputs": [
        {
          "output_type": "stream",
          "name": "stdout",
          "text": [
            "Found 1449 images belonging to 2 classes.\n",
            "Found 362 images belonging to 2 classes.\n",
            "Found 484 images belonging to 2 classes.\n"
          ]
        }
      ],
      "source": [
        "# generate training,testing and validation batches  \n",
        "dgen_train = ImageDataGenerator(rescale = 1./255,\n",
        "                                validation_split=0.2,\n",
        "                                zoom_range = 0.2,\n",
        "                                horizontal_flip = True)\n",
        "\n",
        "dgen_validation = ImageDataGenerator(rescale = 1./255)\n",
        "dgen_test = ImageDataGenerator(rescale = 1./255)\n",
        "\n",
        "train_generator = dgen_train.flow_from_directory(train_dir,\n",
        "                                                 target_size=(150,150),\n",
        "                                                 subset = 'training',\n",
        "                                                 batch_size = 32,\n",
        "                                                 class_mode = 'binary')\n",
        "\n",
        "validation_generator = dgen_train.flow_from_directory(train_dir,\n",
        "                                                 target_size=(150,150),\n",
        "                                                 subset = 'validation',\n",
        "                                                 batch_size = 32,\n",
        "                                                 class_mode = 'binary')\n",
        "\n",
        "test_generator = dgen_test.flow_from_directory(test_dir,\n",
        "                                                 target_size=(150,150),\n",
        "                                                 batch_size = 32,\n",
        "                                                 class_mode = 'binary')"
      ]
    },
    {
      "cell_type": "code",
      "execution_count": 10,
      "metadata": {
        "id": "SIdVxgoLGb0K",
        "colab": {
          "base_uri": "https://localhost:8080/"
        },
        "outputId": "87f3bed8-cea3-4890-9bd6-c02bd9e202a8"
      },
      "outputs": [
        {
          "output_type": "execute_result",
          "data": {
            "text/plain": [
              "{'COVID19': 0, 'NORMAL': 1}"
            ]
          },
          "metadata": {},
          "execution_count": 10
        }
      ],
      "source": [
        "#get the class indices\n",
        "train_generator.class_indices"
      ]
    },
    {
      "cell_type": "code",
      "execution_count": 11,
      "metadata": {
        "id": "gMe4b6_YGdlt",
        "colab": {
          "base_uri": "https://localhost:8080/"
        },
        "outputId": "ebd8e8c9-eece-4fae-a571-b6c7316dba4c"
      },
      "outputs": [
        {
          "output_type": "execute_result",
          "data": {
            "text/plain": [
              "(150, 150, 3)"
            ]
          },
          "metadata": {},
          "execution_count": 11
        }
      ],
      "source": [
        "#get the image shape\n",
        "train_generator.image_shape\n",
        "#3 = rgb\n",
        "#1 = grayscale"
      ]
    },
    {
      "cell_type": "markdown",
      "metadata": {
        "id": "ELcsfIibGoK3"
      },
      "source": [
        "# TASK 5 : Build Convolutional Neural Network Model"
      ]
    },
    {
      "cell_type": "code",
      "execution_count": 12,
      "metadata": {
        "id": "_-pwXOyuGxIq",
        "colab": {
          "base_uri": "https://localhost:8080/"
        },
        "outputId": "0b188504-3319-4f6e-9504-46025d1f8b24"
      },
      "outputs": [
        {
          "output_type": "stream",
          "name": "stdout",
          "text": [
            "Model: \"sequential\"\n",
            "_________________________________________________________________\n",
            " Layer (type)                Output Shape              Param #   \n",
            "=================================================================\n",
            " conv2d (Conv2D)             (None, 150, 150, 32)      2432      \n",
            "                                                                 \n",
            " max_pooling2d (MaxPooling2D  (None, 75, 75, 32)       0         \n",
            " )                                                               \n",
            "                                                                 \n",
            " dropout (Dropout)           (None, 75, 75, 32)        0         \n",
            "                                                                 \n",
            " conv2d_1 (Conv2D)           (None, 75, 75, 64)        51264     \n",
            "                                                                 \n",
            " max_pooling2d_1 (MaxPooling  (None, 37, 37, 64)       0         \n",
            " 2D)                                                             \n",
            "                                                                 \n",
            " dropout_1 (Dropout)         (None, 37, 37, 64)        0         \n",
            "                                                                 \n",
            " flatten (Flatten)           (None, 87616)             0         \n",
            "                                                                 \n",
            " dense (Dense)               (None, 256)               22429952  \n",
            "                                                                 \n",
            " dropout_2 (Dropout)         (None, 256)               0         \n",
            "                                                                 \n",
            " dense_1 (Dense)             (None, 1)                 257       \n",
            "                                                                 \n",
            "=================================================================\n",
            "Total params: 22,483,905\n",
            "Trainable params: 22,483,905\n",
            "Non-trainable params: 0\n",
            "_________________________________________________________________\n"
          ]
        }
      ],
      "source": [
        "model = Sequential()\n",
        "# add the convolutional layer\n",
        "# filters, size of filters,padding,activation_function,input_shape\n",
        "model.add(Conv2D(32,(5,5), padding='SAME',activation='relu', input_shape=(150,150,3)))\n",
        "# pooling layer\n",
        "model.add(MaxPooling2D(pool_size=(2,2)))\n",
        "# place a dropout layer\n",
        "model.add(Dropout(0.5))\n",
        "# add another convolutional layer\n",
        "model.add(Conv2D(64,(5,5), padding='SAME',activation='relu'))\n",
        "# pooling layer\n",
        "model.add(MaxPooling2D(pool_size=(2,2)))\n",
        "# place a dropout layer\n",
        "model.add(Dropout(0.5))\n",
        "# Flatten layer: 2D to 1D\n",
        "model.add(Flatten())\n",
        "# add a dense layer : amount of nodes, activation\n",
        "model.add(Dense(256,activation='relu'))\n",
        "# place a dropout layer\n",
        "# 0.5 drop out rate is recommended, half input nodes will be dropped at each update\n",
        "model.add(Dropout(0.5))\n",
        "model.add(Dense(1,activation='sigmoid'))\n",
        "model.summary()\n"
      ]
    },
    {
      "cell_type": "markdown",
      "metadata": {
        "id": "hgCag-_HHG2N"
      },
      "source": [
        "# TASK 6 : Compile & Train the Model"
      ]
    },
    {
      "cell_type": "code",
      "execution_count": 13,
      "metadata": {
        "id": "1iVcxB1ZHNDV",
        "colab": {
          "base_uri": "https://localhost:8080/"
        },
        "outputId": "8770fccf-9b55-4421-d968-bd3d9a1c8961"
      },
      "outputs": [
        {
          "output_type": "stream",
          "name": "stderr",
          "text": [
            "/usr/local/lib/python3.8/dist-packages/keras/optimizers/optimizer_v2/adam.py:110: UserWarning: The `lr` argument is deprecated, use `learning_rate` instead.\n",
            "  super(Adam, self).__init__(name, **kwargs)\n"
          ]
        }
      ],
      "source": [
        "#compile the model\n",
        "model.compile(Adam(lr=0.001),loss='binary_crossentropy', metrics=['accuracy'])"
      ]
    },
    {
      "cell_type": "code",
      "execution_count": 14,
      "metadata": {
        "id": "OWtZjCFlHPQs",
        "colab": {
          "base_uri": "https://localhost:8080/"
        },
        "outputId": "d30c692b-bb0d-400e-b897-a29606e3ecd0"
      },
      "outputs": [
        {
          "output_type": "stream",
          "name": "stdout",
          "text": [
            "Epoch 1/30\n",
            "46/46 [==============================] - 60s 1s/step - loss: 0.7395 - accuracy: 0.7516 - val_loss: 0.3219 - val_accuracy: 0.8702\n",
            "Epoch 2/30\n",
            "46/46 [==============================] - 49s 1s/step - loss: 0.2763 - accuracy: 0.8847 - val_loss: 0.2095 - val_accuracy: 0.9171\n",
            "Epoch 3/30\n",
            "46/46 [==============================] - 49s 1s/step - loss: 0.1999 - accuracy: 0.9289 - val_loss: 0.1938 - val_accuracy: 0.9392\n",
            "Epoch 4/30\n",
            "46/46 [==============================] - 50s 1s/step - loss: 0.1741 - accuracy: 0.9331 - val_loss: 0.2019 - val_accuracy: 0.9365\n",
            "Epoch 5/30\n",
            "46/46 [==============================] - 49s 1s/step - loss: 0.1460 - accuracy: 0.9538 - val_loss: 0.1288 - val_accuracy: 0.9613\n",
            "Epoch 6/30\n",
            "46/46 [==============================] - 49s 1s/step - loss: 0.1192 - accuracy: 0.9593 - val_loss: 0.1278 - val_accuracy: 0.9530\n",
            "Epoch 7/30\n",
            "46/46 [==============================] - 50s 1s/step - loss: 0.1119 - accuracy: 0.9676 - val_loss: 0.0933 - val_accuracy: 0.9669\n",
            "Epoch 8/30\n",
            "46/46 [==============================] - 51s 1s/step - loss: 0.1067 - accuracy: 0.9669 - val_loss: 0.0979 - val_accuracy: 0.9669\n",
            "Epoch 9/30\n",
            "46/46 [==============================] - 49s 1s/step - loss: 0.1066 - accuracy: 0.9655 - val_loss: 0.0853 - val_accuracy: 0.9696\n",
            "Epoch 10/30\n",
            "46/46 [==============================] - 50s 1s/step - loss: 0.0879 - accuracy: 0.9745 - val_loss: 0.0865 - val_accuracy: 0.9641\n",
            "Epoch 11/30\n",
            "46/46 [==============================] - 48s 1s/step - loss: 0.0842 - accuracy: 0.9710 - val_loss: 0.0770 - val_accuracy: 0.9696\n",
            "Epoch 12/30\n",
            "46/46 [==============================] - 48s 1s/step - loss: 0.0860 - accuracy: 0.9662 - val_loss: 0.0774 - val_accuracy: 0.9751\n",
            "Epoch 13/30\n",
            "46/46 [==============================] - 50s 1s/step - loss: 0.0851 - accuracy: 0.9703 - val_loss: 0.0768 - val_accuracy: 0.9724\n",
            "Epoch 14/30\n",
            "46/46 [==============================] - 49s 1s/step - loss: 0.0780 - accuracy: 0.9793 - val_loss: 0.0669 - val_accuracy: 0.9669\n",
            "Epoch 15/30\n",
            "46/46 [==============================] - 50s 1s/step - loss: 0.1162 - accuracy: 0.9600 - val_loss: 0.1275 - val_accuracy: 0.9558\n",
            "Epoch 16/30\n",
            "46/46 [==============================] - 49s 1s/step - loss: 0.0892 - accuracy: 0.9738 - val_loss: 0.0765 - val_accuracy: 0.9724\n",
            "Epoch 17/30\n",
            "46/46 [==============================] - 50s 1s/step - loss: 0.0654 - accuracy: 0.9800 - val_loss: 0.0641 - val_accuracy: 0.9862\n",
            "Epoch 18/30\n",
            "46/46 [==============================] - 49s 1s/step - loss: 0.0811 - accuracy: 0.9710 - val_loss: 0.0901 - val_accuracy: 0.9696\n",
            "Epoch 19/30\n",
            "46/46 [==============================] - 48s 1s/step - loss: 0.0831 - accuracy: 0.9758 - val_loss: 0.0944 - val_accuracy: 0.9724\n",
            "Epoch 20/30\n",
            "46/46 [==============================] - 49s 1s/step - loss: 0.0678 - accuracy: 0.9772 - val_loss: 0.0792 - val_accuracy: 0.9696\n",
            "Epoch 21/30\n",
            "46/46 [==============================] - 48s 1s/step - loss: 0.0686 - accuracy: 0.9745 - val_loss: 0.0928 - val_accuracy: 0.9779\n",
            "Epoch 22/30\n",
            "46/46 [==============================] - 49s 1s/step - loss: 0.0634 - accuracy: 0.9793 - val_loss: 0.0813 - val_accuracy: 0.9751\n",
            "Epoch 23/30\n",
            "46/46 [==============================] - 49s 1s/step - loss: 0.0555 - accuracy: 0.9814 - val_loss: 0.0549 - val_accuracy: 0.9834\n",
            "Epoch 24/30\n",
            "46/46 [==============================] - 48s 1s/step - loss: 0.0482 - accuracy: 0.9841 - val_loss: 0.0557 - val_accuracy: 0.9751\n",
            "Epoch 25/30\n",
            "46/46 [==============================] - 48s 1s/step - loss: 0.0609 - accuracy: 0.9834 - val_loss: 0.0724 - val_accuracy: 0.9724\n",
            "Epoch 26/30\n",
            "46/46 [==============================] - 50s 1s/step - loss: 0.0482 - accuracy: 0.9869 - val_loss: 0.0556 - val_accuracy: 0.9779\n",
            "Epoch 27/30\n",
            "46/46 [==============================] - 48s 1s/step - loss: 0.0397 - accuracy: 0.9869 - val_loss: 0.0559 - val_accuracy: 0.9807\n",
            "Epoch 28/30\n",
            "46/46 [==============================] - 49s 1s/step - loss: 0.0365 - accuracy: 0.9876 - val_loss: 0.0446 - val_accuracy: 0.9834\n",
            "Epoch 29/30\n",
            "46/46 [==============================] - 50s 1s/step - loss: 0.0310 - accuracy: 0.9896 - val_loss: 0.1037 - val_accuracy: 0.9558\n",
            "Epoch 30/30\n",
            "46/46 [==============================] - 48s 1s/step - loss: 0.0478 - accuracy: 0.9841 - val_loss: 0.0564 - val_accuracy: 0.9890\n"
          ]
        }
      ],
      "source": [
        "#train the model\n",
        "history = model.fit(train_generator,\n",
        "                    epochs = 30,\n",
        "                    validation_data =  validation_generator)"
      ]
    },
    {
      "cell_type": "markdown",
      "metadata": {
        "id": "z95l8IC5HRoG"
      },
      "source": [
        "# TASK 7 : Performance Evaluation"
      ]
    },
    {
      "cell_type": "code",
      "execution_count": 15,
      "metadata": {
        "id": "M0d8G-BEHXXs",
        "colab": {
          "base_uri": "https://localhost:8080/"
        },
        "outputId": "0d794ce2-d3e0-4128-9b19-3cdb40e9f33e"
      },
      "outputs": [
        {
          "output_type": "execute_result",
          "data": {
            "text/plain": [
              "dict_keys(['loss', 'accuracy', 'val_loss', 'val_accuracy'])"
            ]
          },
          "metadata": {},
          "execution_count": 15
        }
      ],
      "source": [
        "#get the keys of history object\n",
        "history.history.keys()"
      ]
    },
    {
      "cell_type": "code",
      "execution_count": 16,
      "metadata": {
        "id": "EVtqI0QuHbZR",
        "colab": {
          "base_uri": "https://localhost:8080/",
          "height": 313
        },
        "outputId": "ad435ff1-ec7a-43c6-ea58-97868c5b612d"
      },
      "outputs": [
        {
          "output_type": "execute_result",
          "data": {
            "text/plain": [
              "Text(0.5, 0, 'epoch')"
            ]
          },
          "metadata": {},
          "execution_count": 16
        },
        {
          "output_type": "display_data",
          "data": {
            "text/plain": [
              "<Figure size 432x288 with 1 Axes>"
            ],
            "image/png": "[encoded data removed]"
          },
          "metadata": {
            "needs_background": "light"
          }
        }
      ],
      "source": [
        "#plot graph between training and validation loss\n",
        "plt.plot(history.history['loss'])\n",
        "plt.plot(history.history['val_loss'])\n",
        "plt.legend(['Training','Validation'])\n",
        "plt.title('Training and validation losses')\n",
        "plt.xlabel('epoch')"
      ]
    },
    {
      "cell_type": "code",
      "execution_count": 17,
      "metadata": {
        "id": "CEIibDQOHgfT",
        "colab": {
          "base_uri": "https://localhost:8080/",
          "height": 313
        },
        "outputId": "4f6270ac-ef79-4d0b-ce64-269cfff77169"
      },
      "outputs": [
        {
          "output_type": "execute_result",
          "data": {
            "text/plain": [
              "Text(0.5, 0, 'epoch')"
            ]
          },
          "metadata": {},
          "execution_count": 17
        },
        {
          "output_type": "display_data",
          "data": {
            "text/plain": [
              "<Figure size 432x288 with 1 Axes>"
            ],
            "image/png": "[encoded data removed]"
          },
          "metadata": {
            "needs_background": "light"
          }
        }
      ],
      "source": [
        "#plot graph between training and validation accuarcy\n",
        "plt.plot(history.history['accuracy'])\n",
        "plt.plot(history.history['val_accuracy'])\n",
        "plt.legend(['Training','Validation'])\n",
        "plt.title('Training and validation accuracy')\n",
        "plt.xlabel('epoch')"
      ]
    },
    {
      "cell_type": "code",
      "execution_count": 18,
      "metadata": {
        "id": "U9Zm__wJHm3v",
        "colab": {
          "base_uri": "https://localhost:8080/"
        },
        "outputId": "3492e306-1e27-4b51-f1c5-b449ef9cccd8"
      },
      "outputs": [
        {
          "output_type": "stream",
          "name": "stdout",
          "text": [
            "16/16 [==============================] - 11s 644ms/step - loss: 0.0690 - accuracy: 0.9773\n",
            "test loss :0.06898704916238785 test acc :0.9772727489471436\n"
          ]
        }
      ],
      "source": [
        "# get the test acuarcy and loss\n",
        "test_loss , test_acc = model.evaluate(test_generator)\n",
        "print('test loss :{} test acc :{}'.format(test_loss,test_acc))"
      ]
    },
    {
      "cell_type": "markdown",
      "metadata": {
        "id": "-AZjx1Q2HseZ"
      },
      "source": [
        "# TASK 8 : Prediction On New Data"
      ]
    },
    {
      "cell_type": "code",
      "execution_count": 24,
      "metadata": {
        "colab": {
          "base_uri": "https://localhost:8080/",
          "height": 127
        },
        "id": "b5qflf3jH3o_",
        "outputId": "852dce51-9b8e-43c9-ed97-757727328cc8"
      },
      "outputs": [
        {
          "output_type": "display_data",
          "data": {
            "text/plain": [
              "<IPython.core.display.HTML object>"
            ],
            "text/html": [
              "\n",
              "     <input type=\"file\" id=\"files-e2234abf-b217-42c4-8613-e6676265835b\" name=\"files[]\" multiple disabled\n",
              "        style=\"border:none\" />\n",
              "     <output id=\"result-e2234abf-b217-42c4-8613-e6676265835b\">\n",
              "      Upload widget is only available when the cell has been executed in the\n",
              "      current browser session. Please rerun this cell to enable.\n",
              "      </output>\n",
              "      <script>// Copyright 2017 Google LLC\n",
              "//\n",
              "// Licensed under the Apache License, Version 2.0 (the \"License\");\n",
              "// you may not use this file except in compliance with the License.\n",
              "// You may obtain a copy of the License at\n",
              "//\n",
              "//      http://www.apache.org/licenses/LICENSE-2.0\n",
              "//\n",
              "// Unless required by applicable law or agreed to in writing, software\n",
              "// distributed under the License is distributed on an \"AS IS\" BASIS,\n",
              "// WITHOUT WARRANTIES OR CONDITIONS OF ANY KIND, either express or implied.\n",
              "// See the License for the specific language governing permissions and\n",
              "// limitations under the License.\n",
              "\n",
              "/**\n",
              " * @fileoverview Helpers for google.colab Python module.\n",
              " */\n",
              "(function(scope) {\n",
              "function span(text, styleAttributes = {}) {\n",
              "  const element = document.createElement('span');\n",
              "  element.textContent = text;\n",
              "  for (const key of Object.keys(styleAttributes)) {\n",
              "    element.style[key] = styleAttributes[key];\n",
              "  }\n",
              "  return element;\n",
              "}\n",
              "\n",
              "// Max number of bytes which will be uploaded at a time.\n",
              "const MAX_PAYLOAD_SIZE = 100 * 1024;\n",
              "\n",
              "function _uploadFiles(inputId, outputId) {\n",
              "  const steps = uploadFilesStep(inputId, outputId);\n",
              "  const outputElement = document.getElementById(outputId);\n",
              "  // Cache steps on the outputElement to make it available for the next call\n",
              "  // to uploadFilesContinue from Python.\n",
              "  outputElement.steps = steps;\n",
              "\n",
              "  return _uploadFilesContinue(outputId);\n",
              "}\n",
              "\n",
              "// This is roughly an async generator (not supported in the browser yet),\n",
              "// where there are multiple asynchronous steps and the Python side is going\n",
              "// to poll for completion of each step.\n",
              "// This uses a Promise to block the python side on completion of each step,\n",
              "// then passes the result of the previous step as the input to the next step.\n",
              "function _uploadFilesContinue(outputId) {\n",
              "  const outputElement = document.getElementById(outputId);\n",
              "  const steps = outputElement.steps;\n",
              "\n",
              "  const next = steps.next(outputElement.lastPromiseValue);\n",
              "  return Promise.resolve(next.value.promise).then((value) => {\n",
              "    // Cache the last promise value to make it available to the next\n",
              "    // step of the generator.\n",
              "    outputElement.lastPromiseValue = value;\n",
              "    return next.value.response;\n",
              "  });\n",
              "}\n",
              "\n",
              "/**\n",
              " * Generator function which is called between each async step of the upload\n",
              " * process.\n",
              " * @param {string} inputId Element ID of the input file picker element.\n",
              " * @param {string} outputId Element ID of the output display.\n",
              " * @return {!Iterable<!Object>} Iterable of next steps.\n",
              " */\n",
              "function* uploadFilesStep(inputId, outputId) {\n",
              "  const inputElement = document.getElementById(inputId);\n",
              "  inputElement.disabled = false;\n",
              "\n",
              "  const outputElement = document.getElementById(outputId);\n",
              "  outputElement.innerHTML = '';\n",
              "\n",
              "  const pickedPromise = new Promise((resolve) => {\n",
              "    inputElement.addEventListener('change', (e) => {\n",
              "      resolve(e.target.files);\n",
              "    });\n",
              "  });\n",
              "\n",
              "  const cancel = document.createElement('button');\n",
              "  inputElement.parentElement.appendChild(cancel);\n",
              "  cancel.textContent = 'Cancel upload';\n",
              "  const cancelPromise = new Promise((resolve) => {\n",
              "    cancel.onclick = () => {\n",
              "      resolve(null);\n",
              "    };\n",
              "  });\n",
              "\n",
              "  // Wait for the user to pick the files.\n",
              "  const files = yield {\n",
              "    promise: Promise.race([pickedPromise, cancelPromise]),\n",
              "    response: {\n",
              "      action: 'starting',\n",
              "    }\n",
              "  };\n",
              "\n",
              "  cancel.remove();\n",
              "\n",
              "  // Disable the input element since further picks are not allowed.\n",
              "  inputElement.disabled = true;\n",
              "\n",
              "  if (!files) {\n",
              "    return {\n",
              "      response: {\n",
              "        action: 'complete',\n",
              "      }\n",
              "    };\n",
              "  }\n",
              "\n",
              "  for (const file of files) {\n",
              "    const li = document.createElement('li');\n",
              "    li.append(span(file.name, {fontWeight: 'bold'}));\n",
              "    li.append(span(\n",
              "        `(${file.type || 'n/a'}) - ${file.size} bytes, ` +\n",
              "        `last modified: ${\n",
              "            file.lastModifiedDate ? file.lastModifiedDate.toLocaleDateString() :\n",
              "                                    'n/a'} - `));\n",
              "    const percent = span('0% done');\n",
              "    li.appendChild(percent);\n",
              "\n",
              "    outputElement.appendChild(li);\n",
              "\n",
              "    const fileDataPromise = new Promise((resolve) => {\n",
              "      const reader = new FileReader();\n",
              "      reader.onload = (e) => {\n",
              "        resolve(e.target.result);\n",
              "      };\n",
              "      reader.readAsArrayBuffer(file);\n",
              "    });\n",
              "    // Wait for the data to be ready.\n",
              "    let fileData = yield {\n",
              "      promise: fileDataPromise,\n",
              "      response: {\n",
              "        action: 'continue',\n",
              "      }\n",
              "    };\n",
              "\n",
              "    // Use a chunked sending to avoid message size limits. See b/62115660.\n",
              "    let position = 0;\n",
              "    do {\n",
              "      const length = Math.min(fileData.byteLength - position, MAX_PAYLOAD_SIZE);\n",
              "      const chunk = new Uint8Array(fileData, position, length);\n",
              "      position += length;\n",
              "\n",
              "      const base64 = btoa(String.fromCharCode.apply(null, chunk));\n",
              "      yield {\n",
              "        response: {\n",
              "          action: 'append',\n",
              "          file: file.name,\n",
              "          data: base64,\n",
              "        },\n",
              "      };\n",
              "\n",
              "      let percentDone = fileData.byteLength === 0 ?\n",
              "          100 :\n",
              "          Math.round((position / fileData.byteLength) * 100);\n",
              "      percent.textContent = `${percentDone}% done`;\n",
              "\n",
              "    } while (position < fileData.byteLength);\n",
              "  }\n",
              "\n",
              "  // All done.\n",
              "  yield {\n",
              "    response: {\n",
              "      action: 'complete',\n",
              "    }\n",
              "  };\n",
              "}\n",
              "\n",
              "scope.google = scope.google || {};\n",
              "scope.google.colab = scope.google.colab || {};\n",
              "scope.google.colab._files = {\n",
              "  _uploadFiles,\n",
              "  _uploadFilesContinue,\n",
              "};\n",
              "})(self);\n",
              "</script> "
            ]
          },
          "metadata": {}
        },
        {
          "output_type": "stream",
          "name": "stdout",
          "text": [
            "Saving Screen Shot 2022-12-16 at 8.39.34 PM.png to Screen Shot 2022-12-16 at 8.39.34 PM.png\n",
            "1/1 [==============================] - 0s 16ms/step\n",
            "Screen Shot 2022-12-16 at 8.39.34 PM.png\n",
            "COVID detected\n"
          ]
        }
      ],
      "source": [
        "from google.colab import files\n",
        "from tensorflow.keras.utils import load_img, img_to_array\n",
        "uploaded = files.upload()\n",
        "for filename in uploaded.keys():\n",
        "  img_path = '/content/'+filename\n",
        "  img  = tensorflow.keras.utils.load_img(img_path, target_size = (150,150))\n",
        "  images = tensorflow.keras.utils.img_to_array(img)\n",
        "  images = np.expand_dims(images, axis=0)\n",
        "  prediction = model.predict(images)\n",
        "  print(filename)\n",
        "  if prediction == 0:\n",
        "    print('COVID detected')\n",
        "  else:\n",
        "    print('Your report is normal')"
      ]
    }
  ],
  "metadata": {
    "accelerator": "GPU",
    "colab": {
      "provenance": [],
      "include_colab_link": true
    },
    "gpuClass": "standard",
    "kernelspec": {
      "display_name": "Python 3",
      "name": "python3"
    }
  },
  "nbformat": 4,
  "nbformat_minor": 0
}